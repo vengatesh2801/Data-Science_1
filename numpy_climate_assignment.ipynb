{
 "cells": [
  {
   "cell_type": "code",
   "execution_count": 1,
   "id": "6d9c935a",
   "metadata": {},
   "outputs": [],
   "source": [
    "import numpy as np"
   ]
  },
  {
   "cell_type": "code",
   "execution_count": 2,
   "id": "bf3bde10",
   "metadata": {},
   "outputs": [
    {
     "data": {
      "text/plain": [
       "array([[ 25.,  76.,  99.],\n",
       "       [ 39.,  65.,  70.],\n",
       "       [ 59.,  45.,  77.],\n",
       "       ...,\n",
       "       [ 95., 100.,  66.],\n",
       "       [ 75.,  97.,  24.],\n",
       "       [ 87.,  59.,  81.]])"
      ]
     },
     "execution_count": 2,
     "metadata": {},
     "output_type": "execute_result"
    }
   ],
   "source": [
    "f1 = np.loadtxt('climate_data_station1.csv',delimiter=',')\n",
    "f1"
   ]
  },
  {
   "cell_type": "code",
   "execution_count": 3,
   "id": "c4e08e11",
   "metadata": {},
   "outputs": [
    {
     "data": {
      "text/plain": [
       "array([[ 93.,  41.,  94.],\n",
       "       [ 81.,  47.,  98.],\n",
       "       [ 65.,  71.,  91.],\n",
       "       ...,\n",
       "       [ 57.,  91.,  27.],\n",
       "       [ 51.,  92.,  64.],\n",
       "       [100.,  32.,  82.]])"
      ]
     },
     "execution_count": 3,
     "metadata": {},
     "output_type": "execute_result"
    }
   ],
   "source": [
    "f2 = np.loadtxt('climate_data_station2.csv',delimiter=',')\n",
    "f2"
   ]
  },
  {
   "cell_type": "code",
   "execution_count": 4,
   "id": "a903b120",
   "metadata": {},
   "outputs": [
    {
     "data": {
      "text/plain": [
       "array([[ 25.,  76.,  99.],\n",
       "       [ 39.,  65.,  70.],\n",
       "       [ 59.,  45.,  77.],\n",
       "       ...,\n",
       "       [ 57.,  91.,  27.],\n",
       "       [ 51.,  92.,  64.],\n",
       "       [100.,  32.,  82.]])"
      ]
     },
     "execution_count": 4,
     "metadata": {},
     "output_type": "execute_result"
    }
   ],
   "source": [
    "f = np.concatenate((f1,f2))\n",
    "f"
   ]
  },
  {
   "cell_type": "code",
   "execution_count": 5,
   "id": "9bb7a641",
   "metadata": {},
   "outputs": [
    {
     "data": {
      "text/plain": [
       "array([[82., 21., 40.],\n",
       "       [76., 76., 93.],\n",
       "       [47., 24., 81.],\n",
       "       ...,\n",
       "       [68., 59., 74.],\n",
       "       [49., 81., 28.],\n",
       "       [44., 27., 27.]])"
      ]
     },
     "execution_count": 5,
     "metadata": {},
     "output_type": "execute_result"
    }
   ],
   "source": [
    "f3 = np.loadtxt('climate_data_station3.csv',delimiter=',')\n",
    "f3"
   ]
  },
  {
   "cell_type": "code",
   "execution_count": 6,
   "id": "2c42294a",
   "metadata": {},
   "outputs": [
    {
     "data": {
      "text/plain": [
       "array([[38., 46., 21.],\n",
       "       [68., 75., 33.],\n",
       "       [29., 91., 68.],\n",
       "       ...,\n",
       "       [97., 43., 47.],\n",
       "       [94., 90., 96.],\n",
       "       [74., 66., 87.]])"
      ]
     },
     "execution_count": 6,
     "metadata": {},
     "output_type": "execute_result"
    }
   ],
   "source": [
    "f4 = np.loadtxt('climate_data_station4.csv',delimiter=',')\n",
    "f4"
   ]
  },
  {
   "cell_type": "code",
   "execution_count": 7,
   "id": "31d41fa4",
   "metadata": {},
   "outputs": [
    {
     "data": {
      "text/plain": [
       "array([[57., 98., 28.],\n",
       "       [51., 51., 22.],\n",
       "       [50., 79., 20.],\n",
       "       ...,\n",
       "       [62., 34., 83.],\n",
       "       [98., 72., 23.],\n",
       "       [79., 47., 46.]])"
      ]
     },
     "execution_count": 7,
     "metadata": {},
     "output_type": "execute_result"
    }
   ],
   "source": [
    "f5 = np.loadtxt('climate_data_station5.csv',delimiter=',')\n",
    "f5"
   ]
  },
  {
   "cell_type": "code",
   "execution_count": 8,
   "id": "413bbd2c",
   "metadata": {},
   "outputs": [
    {
     "data": {
      "text/plain": [
       "array([[ 27.,  49.,  71.],\n",
       "       [ 50.,  77.,  22.],\n",
       "       [ 91.,  30.,  87.],\n",
       "       ...,\n",
       "       [ 53.,  67.,  60.],\n",
       "       [ 34.,  33.,  71.],\n",
       "       [100.,  26.,  77.]])"
      ]
     },
     "execution_count": 8,
     "metadata": {},
     "output_type": "execute_result"
    }
   ],
   "source": [
    "f6 = np.loadtxt('climate_data_station6.csv',delimiter=',')\n",
    "f6"
   ]
  },
  {
   "cell_type": "code",
   "execution_count": 9,
   "id": "f286a688",
   "metadata": {},
   "outputs": [
    {
     "data": {
      "text/plain": [
       "array([[45., 75., 73.],\n",
       "       [45., 61., 73.],\n",
       "       [33., 98., 53.],\n",
       "       ...,\n",
       "       [44., 71., 21.],\n",
       "       [50., 93., 76.],\n",
       "       [83., 87., 56.]])"
      ]
     },
     "execution_count": 9,
     "metadata": {},
     "output_type": "execute_result"
    }
   ],
   "source": [
    "f7 = np.loadtxt('climate_data_station7.csv',delimiter=',')\n",
    "f7"
   ]
  },
  {
   "cell_type": "code",
   "execution_count": 10,
   "id": "1b8725a8",
   "metadata": {},
   "outputs": [
    {
     "data": {
      "text/plain": [
       "array([[97., 58., 60.],\n",
       "       [70., 53., 96.],\n",
       "       [40., 34., 57.],\n",
       "       ...,\n",
       "       [85., 68., 34.],\n",
       "       [72., 73., 32.],\n",
       "       [80., 31., 61.]])"
      ]
     },
     "execution_count": 10,
     "metadata": {},
     "output_type": "execute_result"
    }
   ],
   "source": [
    "f8 = np.loadtxt('climate_data_station8.csv',delimiter=',')\n",
    "f8"
   ]
  },
  {
   "cell_type": "code",
   "execution_count": 11,
   "id": "03842757",
   "metadata": {},
   "outputs": [
    {
     "data": {
      "text/plain": [
       "array([[ 71.,  81.,  29.],\n",
       "       [ 46.,  71.,  44.],\n",
       "       [ 77.,  45., 100.],\n",
       "       ...,\n",
       "       [ 47.,  91.,  86.],\n",
       "       [ 90.,  99.,  96.],\n",
       "       [ 40.,  46.,  78.]])"
      ]
     },
     "execution_count": 11,
     "metadata": {},
     "output_type": "execute_result"
    }
   ],
   "source": [
    "f9 = np.loadtxt('climate_data_station9.csv',delimiter=',')\n",
    "f9"
   ]
  },
  {
   "cell_type": "code",
   "execution_count": 12,
   "id": "a24d450e",
   "metadata": {},
   "outputs": [
    {
     "data": {
      "text/plain": [
       "array([[85., 51., 88.],\n",
       "       [47., 66., 95.],\n",
       "       [59., 95., 90.],\n",
       "       ...,\n",
       "       [99., 62., 58.],\n",
       "       [70., 71., 91.],\n",
       "       [92., 39., 76.]])"
      ]
     },
     "execution_count": 12,
     "metadata": {},
     "output_type": "execute_result"
    }
   ],
   "source": [
    "f10 = np.loadtxt('climate_data_station10.csv',delimiter=',')\n",
    "f10"
   ]
  },
  {
   "cell_type": "code",
   "execution_count": 13,
   "id": "ecc57506",
   "metadata": {},
   "outputs": [
    {
     "data": {
      "text/plain": [
       "array([[25., 76., 99.],\n",
       "       [39., 65., 70.],\n",
       "       [59., 45., 77.],\n",
       "       ...,\n",
       "       [99., 62., 58.],\n",
       "       [70., 71., 91.],\n",
       "       [92., 39., 76.]])"
      ]
     },
     "execution_count": 13,
     "metadata": {},
     "output_type": "execute_result"
    }
   ],
   "source": [
    "#concatinating all the array from file 1 to 10\n",
    "\n",
    "f = np.concatenate((f1,f2,f3,f4,f5,f6,f7,f8,f9,f10))\n",
    "f"
   ]
  },
  {
   "cell_type": "markdown",
   "id": "73eead54",
   "metadata": {},
   "source": [
    "# w1 = 0.3, w2 = 0.2, w3 =0.5\n",
    "# formula ---> yield_of_corp  = w1 * temperature + w2 * rainfall + w3 * humidity\n"
   ]
  },
  {
   "cell_type": "code",
   "execution_count": 14,
   "id": "6bd933d8",
   "metadata": {
    "scrolled": true
   },
   "outputs": [
    {
     "data": {
      "text/plain": [
       "array([25., 39., 59., ..., 99., 70., 92.])"
      ]
     },
     "execution_count": 14,
     "metadata": {},
     "output_type": "execute_result"
    }
   ],
   "source": [
    "#temperature calculation\n",
    "temp = f[:,0]\n",
    "temp"
   ]
  },
  {
   "cell_type": "code",
   "execution_count": 15,
   "id": "edc6c9c5",
   "metadata": {},
   "outputs": [
    {
     "data": {
      "text/plain": [
       "array([ 7.5, 11.7, 17.7, ..., 29.7, 21. , 27.6])"
      ]
     },
     "execution_count": 15,
     "metadata": {},
     "output_type": "execute_result"
    }
   ],
   "source": [
    "temp_cal = 0.3*temp\n",
    "temp_cal"
   ]
  },
  {
   "cell_type": "code",
   "execution_count": 16,
   "id": "f37c62a1",
   "metadata": {},
   "outputs": [
    {
     "data": {
      "text/plain": [
       "array([76., 65., 45., ..., 62., 71., 39.])"
      ]
     },
     "execution_count": 16,
     "metadata": {},
     "output_type": "execute_result"
    }
   ],
   "source": [
    "rainfall = f[:,1]\n",
    "rainfall"
   ]
  },
  {
   "cell_type": "code",
   "execution_count": 17,
   "id": "51bd763f",
   "metadata": {},
   "outputs": [
    {
     "data": {
      "text/plain": [
       "array([15.2, 13. ,  9. , ..., 12.4, 14.2,  7.8])"
      ]
     },
     "execution_count": 17,
     "metadata": {},
     "output_type": "execute_result"
    }
   ],
   "source": [
    "rainfall_cal =0.2*rainfall\n",
    "rainfall_cal"
   ]
  },
  {
   "cell_type": "code",
   "execution_count": 18,
   "id": "b2d3f91e",
   "metadata": {},
   "outputs": [
    {
     "data": {
      "text/plain": [
       "array([99., 70., 77., ..., 58., 91., 76.])"
      ]
     },
     "execution_count": 18,
     "metadata": {},
     "output_type": "execute_result"
    }
   ],
   "source": [
    "humidity = f[:,2]\n",
    "humidity"
   ]
  },
  {
   "cell_type": "code",
   "execution_count": 19,
   "id": "94ca907c",
   "metadata": {},
   "outputs": [
    {
     "data": {
      "text/plain": [
       "array([49.5, 35. , 38.5, ..., 29. , 45.5, 38. ])"
      ]
     },
     "execution_count": 19,
     "metadata": {},
     "output_type": "execute_result"
    }
   ],
   "source": [
    "humidity_cal = 0.5*humidity\n",
    "humidity_cal"
   ]
  },
  {
   "cell_type": "code",
   "execution_count": 20,
   "id": "1dd6d91d",
   "metadata": {},
   "outputs": [
    {
     "data": {
      "text/plain": [
       "array([72.2, 59.7, 65.2, ..., 71.1, 80.7, 73.4])"
      ]
     },
     "execution_count": 20,
     "metadata": {},
     "output_type": "execute_result"
    }
   ],
   "source": [
    "yield_of_crop = temp_cal + rainfall_cal + humidity_cal\n",
    "yield_of_crop"
   ]
  },
  {
   "cell_type": "code",
   "execution_count": 21,
   "id": "5b41cc99",
   "metadata": {},
   "outputs": [
    {
     "data": {
      "text/plain": [
       "array([[ 7.5, 15.2, 49.5, 72.2],\n",
       "       [11.7, 13. , 35. , 59.7],\n",
       "       [17.7,  9. , 38.5, 65.2],\n",
       "       ...,\n",
       "       [29.7, 12.4, 29. , 71.1],\n",
       "       [21. , 14.2, 45.5, 80.7],\n",
       "       [27.6,  7.8, 38. , 73.4]])"
      ]
     },
     "execution_count": 21,
     "metadata": {},
     "output_type": "execute_result"
    }
   ],
   "source": [
    "result=np.stack((temp_cal,rainfall_cal,humidity_cal,yield_of_crop),axis=1)\n",
    "result"
   ]
  },
  {
   "cell_type": "code",
   "execution_count": 22,
   "id": "c0200133",
   "metadata": {},
   "outputs": [
    {
     "ename": "IndexError",
     "evalue": "index 3 is out of bounds for axis 1 with size 3",
     "output_type": "error",
     "traceback": [
      "\u001b[1;31m---------------------------------------------------------------------------\u001b[0m",
      "\u001b[1;31mIndexError\u001b[0m                                Traceback (most recent call last)",
      "Cell \u001b[1;32mIn[22], line 1\u001b[0m\n\u001b[1;32m----> 1\u001b[0m a \u001b[38;5;241m=\u001b[39m \u001b[43mf\u001b[49m\u001b[43m[\u001b[49m\u001b[43m:\u001b[49m\u001b[43m,\u001b[49m\u001b[38;5;241;43m3\u001b[39;49m\u001b[43m]\u001b[49m\n",
      "\u001b[1;31mIndexError\u001b[0m: index 3 is out of bounds for axis 1 with size 3"
     ]
    }
   ],
   "source": []
  },
  {
   "cell_type": "code",
   "execution_count": null,
   "id": "d0acf286",
   "metadata": {},
   "outputs": [],
   "source": []
  }
 ],
 "metadata": {
  "kernelspec": {
   "display_name": "Python 3 (ipykernel)",
   "language": "python",
   "name": "python3"
  },
  "language_info": {
   "codemirror_mode": {
    "name": "ipython",
    "version": 3
   },
   "file_extension": ".py",
   "mimetype": "text/x-python",
   "name": "python",
   "nbconvert_exporter": "python",
   "pygments_lexer": "ipython3",
   "version": "3.10.9"
  }
 },
 "nbformat": 4,
 "nbformat_minor": 5
}
